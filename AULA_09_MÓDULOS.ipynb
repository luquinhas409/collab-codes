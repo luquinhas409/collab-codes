{
  "nbformat": 4,
  "nbformat_minor": 0,
  "metadata": {
    "colab": {
      "provenance": [],
      "authorship_tag": "ABX9TyMYrADyJh6q/5zwvhvb7T6U",
      "include_colab_link": true
    },
    "kernelspec": {
      "name": "python3",
      "display_name": "Python 3"
    },
    "language_info": {
      "name": "python"
    }
  },
  "cells": [
    {
      "cell_type": "markdown",
      "metadata": {
        "id": "view-in-github",
        "colab_type": "text"
      },
      "source": [
        "<a href=\"https://colab.research.google.com/github/luquinhas409/collab-codes/blob/main/AULA_09_M%C3%93DULOS.ipynb\" target=\"_parent\"><img src=\"https://colab.research.google.com/assets/colab-badge.svg\" alt=\"Open In Colab\"/></a>"
      ]
    },
    {
      "cell_type": "code",
      "source": [
        "#importando modulos\n",
        "import math"
      ],
      "metadata": {
        "id": "iY7tgnkzCXEY"
      },
      "execution_count": null,
      "outputs": []
    },
    {
      "cell_type": "code",
      "source": [
        "# 2 elevado a  3\n",
        "print(math.pow(2,3))"
      ],
      "metadata": {
        "colab": {
          "base_uri": "https://localhost:8080/"
        },
        "id": "lOoT7FT1Cdew",
        "outputId": "e9d502db-e93a-4086-8f42-d17530d17881"
      },
      "execution_count": null,
      "outputs": [
        {
          "output_type": "stream",
          "name": "stdout",
          "text": [
            "8.0\n"
          ]
        }
      ]
    },
    {
      "cell_type": "code",
      "source": [
        "#arredondando valores\n",
        "print(math.ceil(2.5)) # esse arredonda para cima,ou seja, de 2.5 vai para 3\n",
        "print(math.trunc(2.5)) #esse arredonda para baixo,ou seja, de 2.5 vai para 2"
      ],
      "metadata": {
        "colab": {
          "base_uri": "https://localhost:8080/"
        },
        "id": "-aJRImbZCvGv",
        "outputId": "519acc70-df40-41e7-8991-4ad86c4cd1f8"
      },
      "execution_count": null,
      "outputs": [
        {
          "output_type": "stream",
          "name": "stdout",
          "text": [
            "3\n",
            "2\n"
          ]
        }
      ]
    },
    {
      "cell_type": "code",
      "source": [
        "#excluindo arquivos\n",
        "import os\n",
        "os.remove('arquivo.txt')"
      ],
      "metadata": {
        "id": "KsvbOQ_IDUG4",
        "colab": {
          "base_uri": "https://localhost:8080/",
          "height": 176
        },
        "outputId": "419ed131-b1b1-47bf-8ac7-4e1fdfa01ca4"
      },
      "execution_count": null,
      "outputs": [
        {
          "output_type": "error",
          "ename": "FileNotFoundError",
          "evalue": "[Errno 2] No such file or directory: 'arquivo.txt'",
          "traceback": [
            "\u001b[0;31m---------------------------------------------------------------------------\u001b[0m",
            "\u001b[0;31mFileNotFoundError\u001b[0m                         Traceback (most recent call last)",
            "\u001b[0;32m<ipython-input-4-e22e7f95db82>\u001b[0m in \u001b[0;36m<cell line: 0>\u001b[0;34m()\u001b[0m\n\u001b[1;32m      1\u001b[0m \u001b[0;31m#excluindo arquivos\u001b[0m\u001b[0;34m\u001b[0m\u001b[0;34m\u001b[0m\u001b[0m\n\u001b[1;32m      2\u001b[0m \u001b[0;32mimport\u001b[0m \u001b[0mos\u001b[0m\u001b[0;34m\u001b[0m\u001b[0;34m\u001b[0m\u001b[0m\n\u001b[0;32m----> 3\u001b[0;31m \u001b[0mos\u001b[0m\u001b[0;34m.\u001b[0m\u001b[0mremove\u001b[0m\u001b[0;34m(\u001b[0m\u001b[0;34m'arquivo.txt'\u001b[0m\u001b[0;34m)\u001b[0m\u001b[0;34m\u001b[0m\u001b[0;34m\u001b[0m\u001b[0m\n\u001b[0m",
            "\u001b[0;31mFileNotFoundError\u001b[0m: [Errno 2] No such file or directory: 'arquivo.txt'"
          ]
        }
      ]
    },
    {
      "cell_type": "code",
      "source": [
        "#verifica se o arquivo existe para depois remover\n",
        "import os\n",
        "if os.path.exists(\"arquivo.txt\"):\n",
        " os.remove(\"arquivo.txt\")\n",
        "else:\n",
        "  print(\"ocorreu um erro pois o arquivo não existe.\")"
      ],
      "metadata": {
        "id": "S3gFyialDnpn"
      },
      "execution_count": null,
      "outputs": []
    },
    {
      "cell_type": "code",
      "source": [
        "#excluir uma pasta use o comando \"rmdir()\"\n",
        "os .rmdir(\"folder exemplo\")"
      ],
      "metadata": {
        "id": "4xxeqsZsD-oo"
      },
      "execution_count": null,
      "outputs": []
    },
    {
      "cell_type": "code",
      "source": [
        "#comando \"help()\"e\"dir()\"\n",
        "import math\n",
        "print(dir(math))\n"
      ],
      "metadata": {
        "id": "V1ORS2LME8xw"
      },
      "execution_count": null,
      "outputs": []
    },
    {
      "cell_type": "code",
      "source": [
        "help(math.log2)\n"
      ],
      "metadata": {
        "id": "pmrtln3mGOh4"
      },
      "execution_count": null,
      "outputs": []
    },
    {
      "cell_type": "code",
      "source": [
        "import contas\n",
        "\n"
      ],
      "metadata": {
        "id": "6k4aHCNbJPr3"
      },
      "execution_count": null,
      "outputs": []
    },
    {
      "cell_type": "code",
      "source": [],
      "metadata": {
        "id": "9YIOHOm3QdAY"
      },
      "execution_count": null,
      "outputs": []
    },
    {
      "cell_type": "markdown",
      "source": [],
      "metadata": {
        "id": "CN5pTxb0KFNY"
      }
    },
    {
      "cell_type": "code",
      "source": [
        "import contas\n",
        "print(contas.soma(3,10))\n",
        "print(contas.subtracao(20,6))\n",
        "print(contas.M(20,30))\n",
        "print(contas.D(20,30))\n"
      ],
      "metadata": {
        "id": "hm3TPIGWHEbx",
        "colab": {
          "base_uri": "https://localhost:8080/"
        },
        "outputId": "76d5e93c-d45d-496a-ebae-1f74e76ecf98"
      },
      "execution_count": null,
      "outputs": [
        {
          "output_type": "stream",
          "name": "stdout",
          "text": [
            "13\n",
            "14\n",
            "600\n",
            "0.6666666666666666\n"
          ]
        }
      ]
    },
    {
      "cell_type": "code",
      "source": [
        "import contas as c\n",
        "print(c.soma(3,10))\n",
        "print(c.subtracao(20,6))\n",
        "print(c.M(20,30))\n",
        "print(c.D(20,30))"
      ],
      "metadata": {
        "colab": {
          "base_uri": "https://localhost:8080/"
        },
        "id": "EyqWMiRlMaTf",
        "outputId": "a12b4f4e-47e6-4ee5-cf32-1cc4e914413a"
      },
      "execution_count": null,
      "outputs": [
        {
          "output_type": "stream",
          "name": "stdout",
          "text": [
            "13\n",
            "14\n",
            "600\n",
            "0.6666666666666666\n"
          ]
        }
      ]
    },
    {
      "cell_type": "code",
      "source": [
        "numero = []\n",
        "for i in range(5):\n",
        "  contas = input('digite um numero :')\n",
        "  numero.append(contas)\n",
        "\n",
        "print(numero)\n",
        "\n",
        "par= 0\n",
        "\n",
        "for numero in contas:\n",
        "  if numero % 2==0:\n",
        "    par += 1\n",
        "\n"
      ],
      "metadata": {
        "colab": {
          "base_uri": "https://localhost:8080/",
          "height": 315
        },
        "id": "pLr56AD-M6bn",
        "outputId": "ab7891ba-dcd2-4a13-943b-c21b0228452c"
      },
      "execution_count": null,
      "outputs": [
        {
          "output_type": "stream",
          "name": "stdout",
          "text": [
            "digite um numero :2\n",
            "digite um numero :3\n",
            "digite um numero :6\n",
            "digite um numero :5\n",
            "digite um numero :7\n",
            "['2', '3', '6', '5', '7']\n"
          ]
        },
        {
          "output_type": "error",
          "ename": "TypeError",
          "evalue": "not all arguments converted during string formatting",
          "traceback": [
            "\u001b[0;31m---------------------------------------------------------------------------\u001b[0m",
            "\u001b[0;31mTypeError\u001b[0m                                 Traceback (most recent call last)",
            "\u001b[0;32m<ipython-input-132-471cb2469e44>\u001b[0m in \u001b[0;36m<cell line: 0>\u001b[0;34m()\u001b[0m\n\u001b[1;32m      9\u001b[0m \u001b[0;34m\u001b[0m\u001b[0m\n\u001b[1;32m     10\u001b[0m \u001b[0;32mfor\u001b[0m \u001b[0mnumero\u001b[0m \u001b[0;32min\u001b[0m \u001b[0mcontas\u001b[0m\u001b[0;34m:\u001b[0m\u001b[0;34m\u001b[0m\u001b[0;34m\u001b[0m\u001b[0m\n\u001b[0;32m---> 11\u001b[0;31m   \u001b[0;32mif\u001b[0m \u001b[0mnumero\u001b[0m \u001b[0;34m%\u001b[0m \u001b[0;36m2\u001b[0m\u001b[0;34m==\u001b[0m\u001b[0;36m0\u001b[0m\u001b[0;34m:\u001b[0m\u001b[0;34m\u001b[0m\u001b[0;34m\u001b[0m\u001b[0m\n\u001b[0m\u001b[1;32m     12\u001b[0m     \u001b[0mpar\u001b[0m \u001b[0;34m+=\u001b[0m \u001b[0;36m1\u001b[0m\u001b[0;34m\u001b[0m\u001b[0;34m\u001b[0m\u001b[0m\n\u001b[1;32m     13\u001b[0m \u001b[0;34m\u001b[0m\u001b[0m\n",
            "\u001b[0;31mTypeError\u001b[0m: not all arguments converted during string formatting"
          ]
        }
      ]
    }
  ]
}