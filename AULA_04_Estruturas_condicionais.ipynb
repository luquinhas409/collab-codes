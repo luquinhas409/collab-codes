{
  "nbformat": 4,
  "nbformat_minor": 0,
  "metadata": {
    "colab": {
      "provenance": [],
      "authorship_tag": "ABX9TyPfw/tOjG9wmBlBu+FEkdEb",
      "include_colab_link": true
    },
    "kernelspec": {
      "name": "python3",
      "display_name": "Python 3"
    },
    "language_info": {
      "name": "python"
    }
  },
  "cells": [
    {
      "cell_type": "markdown",
      "metadata": {
        "id": "view-in-github",
        "colab_type": "text"
      },
      "source": [
        "<a href=\"https://colab.research.google.com/github/luquinhas409/collab-codes/blob/main/AULA_04_Estruturas_condicionais.ipynb\" target=\"_parent\"><img src=\"https://colab.research.google.com/assets/colab-badge.svg\" alt=\"Open In Colab\"/></a>"
      ]
    },
    {
      "cell_type": "code",
      "execution_count": null,
      "metadata": {
        "colab": {
          "base_uri": "https://localhost:8080/"
        },
        "id": "LdUdheoGhz7I",
        "outputId": "a9062381-106a-4645-d820-17ee0887d519"
      },
      "outputs": [
        {
          "output_type": "stream",
          "name": "stdout",
          "text": [
            "True\n",
            "False\n"
          ]
        }
      ],
      "source": [
        "# operador ==: se os valores forem iguais a condição torna-se verdadeira\n",
        "numero = 0 == 0\n",
        "print(numero)\n",
        "numero = 0 == 1\n",
        "print(numero)"
      ]
    },
    {
      "cell_type": "markdown",
      "source": [],
      "metadata": {
        "id": "TA6dTD04mk5z"
      }
    },
    {
      "cell_type": "code",
      "source": [
        "#operador !=: se os valores dos operadores nao forem iguais a condição nao se torna verdadeira\n",
        "numero = 0 != 0\n",
        "print(numero)\n",
        "numero = 0 != 1\n",
        "print(numero)"
      ],
      "metadata": {
        "colab": {
          "base_uri": "https://localhost:8080/"
        },
        "id": "S6fJnsKxomMS",
        "outputId": "a0cc37bd-f41a-44c1-8eae-345e7b9d61af"
      },
      "execution_count": null,
      "outputs": [
        {
          "output_type": "stream",
          "name": "stdout",
          "text": [
            "False\n",
            "True\n"
          ]
        }
      ]
    },
    {
      "cell_type": "code",
      "source": [
        "#operador >: se o valor do operando esquerdo for maior do que o valor do operando direito a condição torna-se verdadeira\n",
        "numero = 1 > 0\n",
        "print(numero)\n",
        "numero = 0 > 1\n",
        "print(numero)"
      ],
      "metadata": {
        "colab": {
          "base_uri": "https://localhost:8080/"
        },
        "id": "Gc6GK06-o6cB",
        "outputId": "c4e6df21-1d9b-4e1a-e8f4-3735234319c1"
      },
      "execution_count": null,
      "outputs": [
        {
          "output_type": "stream",
          "name": "stdout",
          "text": [
            "True\n",
            "False\n"
          ]
        }
      ]
    },
    {
      "cell_type": "code",
      "source": [
        "#operador <: se o valor do operando direito for menor que o valor do operando direito a condição se torna verdadeira\n",
        "numero = 1 < 0\n",
        "print(numero)\n",
        "numero = 0 < 1\n",
        "print(numero)"
      ],
      "metadata": {
        "colab": {
          "base_uri": "https://localhost:8080/"
        },
        "id": "nu_noHm4pRkZ",
        "outputId": "dd2f67ab-15a0-427a-c324-bd5f99fec557"
      },
      "execution_count": null,
      "outputs": [
        {
          "output_type": "stream",
          "name": "stdout",
          "text": [
            "False\n",
            "True\n"
          ]
        }
      ]
    },
    {
      "cell_type": "code",
      "source": [
        "#operador >=: se o valor do operando esquerdo for maior ou igual do que o operador direito,a condição se torna verdadeira\n",
        "numero = 1 >= 0\n",
        "print(numero)\n",
        "numero = 0 >= 0\n",
        "print(numero)\n",
        "numero = 0 >= 1\n",
        "print(numero)"
      ],
      "metadata": {
        "colab": {
          "base_uri": "https://localhost:8080/"
        },
        "id": "AZgUL8Acpf9o",
        "outputId": "6bdef061-61cb-4cf5-8769-1673afcf67ab"
      },
      "execution_count": null,
      "outputs": [
        {
          "output_type": "stream",
          "name": "stdout",
          "text": [
            "True\n",
            "True\n",
            "False\n"
          ]
        }
      ]
    },
    {
      "cell_type": "code",
      "source": [
        "#operador <=: se o valor do operando direito for menor ou igual do que o operador esquerdo,a condição se torna verdadeira\n",
        "numero = 1 <= 0\n",
        "print(numero)\n",
        "numero = 0 <= 0\n",
        "print(numero)\n",
        "numero = 0 <= 1\n",
        "print(numero)"
      ],
      "metadata": {
        "colab": {
          "base_uri": "https://localhost:8080/"
        },
        "id": "etQdUt6qqCHZ",
        "outputId": "c9a93163-7807-47f5-f43f-a338347f9809"
      },
      "execution_count": null,
      "outputs": [
        {
          "output_type": "stream",
          "name": "stdout",
          "text": [
            "False\n",
            "True\n",
            "True\n"
          ]
        }
      ]
    },
    {
      "cell_type": "code",
      "source": [
        "#aqui ele contou a quantidade de letras por isso \"matheus\" é maior que \"lucas\"\n",
        "texto01= \"lucas\"\n",
        "texto02=\"matheus\"\n",
        "texto02 > texto01"
      ],
      "metadata": {
        "colab": {
          "base_uri": "https://localhost:8080/"
        },
        "id": "QISzoZymqVgp",
        "outputId": "8477f361-7c59-4ba3-8b58-4790f0aae8df"
      },
      "execution_count": null,
      "outputs": [
        {
          "output_type": "execute_result",
          "data": {
            "text/plain": [
              "True"
            ]
          },
          "metadata": {},
          "execution_count": 11
        }
      ]
    },
    {
      "cell_type": "code",
      "source": [
        "# condicionais and e or\n",
        "n=0      # and  se as duas condições forem verdadeira  então é verdadeiro\n",
        "n2=1     # or se apenas uma das condições forem verdadeira então é verdadeiro\n",
        "\n",
        "c= n == n and n2 == n2 #verdadeiro pois as duas condições foram verdadeiras\n",
        "c2=n == n2 and n2 == n2# é falso pois apenas uma das condiações foi verdadeira\n",
        "\n",
        "\n",
        "c3=n == n2 or n2 == n2 # é verdadeiro pois uma das condições é verdadeiras\n",
        "c4 =n == n2 or n == n2# é falso  pois as duas condições são falsas\n",
        "print(c)\n",
        "print(c2)\n",
        "print(c3)\n",
        "print(c4)"
      ],
      "metadata": {
        "colab": {
          "base_uri": "https://localhost:8080/"
        },
        "id": "JxY28rqwrvIH",
        "outputId": "abcff172-9ece-49cc-cbd2-49e9260bd44f"
      },
      "execution_count": null,
      "outputs": [
        {
          "output_type": "stream",
          "name": "stdout",
          "text": [
            "True\n",
            "False\n",
            "True\n",
            "False\n"
          ]
        }
      ]
    },
    {
      "cell_type": "code",
      "source": [
        "# estrutura condicional ( simples e composto)\n",
        "#simples\n",
        "nota= 8\n",
        "if nota >=6 :\n",
        "  print(\"aprovado!\")\n",
        "\n",
        "#composta\n",
        "nota=4\n",
        "if nota >=6 :\n",
        "  print(\"aprovado!\")\n",
        "else:\n",
        "  print(\"reprovado!\")\n",
        "#elif\n",
        "nota = 5.5\n",
        "if nota >=6:\n",
        "  print(\"aprovado!\")\n",
        "elif 4 <= nota < 6:\n",
        "  print(\"recuperação!\")\n",
        "else:\n",
        "  print(\"reprovado!\")\n"
      ],
      "metadata": {
        "colab": {
          "base_uri": "https://localhost:8080/"
        },
        "id": "gDw2xol4t_wG",
        "outputId": "1224cd3d-3c5f-4de9-d680-42ad35a92139"
      },
      "execution_count": null,
      "outputs": [
        {
          "output_type": "stream",
          "name": "stdout",
          "text": [
            "aprovado!\n",
            "reprovado!\n",
            "recuperação!\n"
          ]
        }
      ]
    }
  ]
}