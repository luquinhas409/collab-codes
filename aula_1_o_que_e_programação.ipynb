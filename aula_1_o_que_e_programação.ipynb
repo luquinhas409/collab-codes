{
  "nbformat": 4,
  "nbformat_minor": 0,
  "metadata": {
    "colab": {
      "provenance": [],
      "authorship_tag": "ABX9TyON/cShyLSdow8FFAA5Wl6o",
      "include_colab_link": true
    },
    "kernelspec": {
      "name": "python3",
      "display_name": "Python 3"
    },
    "language_info": {
      "name": "python"
    }
  },
  "cells": [
    {
      "cell_type": "markdown",
      "metadata": {
        "id": "view-in-github",
        "colab_type": "text"
      },
      "source": [
        "<a href=\"https://colab.research.google.com/github/luquinhas409/collab-codes/blob/main/aula_1_o_que_e_programa%C3%A7%C3%A3o.ipynb\" target=\"_parent\"><img src=\"https://colab.research.google.com/assets/colab-badge.svg\" alt=\"Open In Colab\"/></a>"
      ]
    },
    {
      "cell_type": "code",
      "execution_count": null,
      "metadata": {
        "colab": {
          "base_uri": "https://localhost:8080/"
        },
        "id": "XqivTomGow_Z",
        "outputId": "1683de73-6a05-4f71-f163-2c30338813d0"
      },
      "outputs": [
        {
          "output_type": "stream",
          "name": "stdout",
          "text": [
            "master chief melhor personagem\n"
          ]
        }
      ],
      "source": [
        "#isto é um comentário\n",
        "print(\"master chief melhor personagem\")"
      ]
    },
    {
      "cell_type": "code",
      "source": [
        "'''\n",
        "assasins creed black flag remake\n",
        "'''\n",
        "print(5+3)"
      ],
      "metadata": {
        "colab": {
          "base_uri": "https://localhost:8080/"
        },
        "id": "PB9V5VEhvBt-",
        "outputId": "c5b9ddf8-0e80-4733-a965-abe6a0e677d9"
      },
      "execution_count": null,
      "outputs": [
        {
          "output_type": "stream",
          "name": "stdout",
          "text": [
            "8\n"
          ]
        }
      ]
    },
    {
      "cell_type": "code",
      "source": [
        "type(2.3)"
      ],
      "metadata": {
        "colab": {
          "base_uri": "https://localhost:8080/"
        },
        "id": "Hv7pX5VcwYPd",
        "outputId": "e04610ca-a51d-4504-faac-b27264bf7c96"
      },
      "execution_count": null,
      "outputs": [
        {
          "output_type": "execute_result",
          "data": {
            "text/plain": [
              "float"
            ]
          },
          "metadata": {},
          "execution_count": 8
        }
      ]
    },
    {
      "cell_type": "code",
      "source": [
        "type(3)"
      ],
      "metadata": {
        "colab": {
          "base_uri": "https://localhost:8080/"
        },
        "id": "Bh9NU93s2YFs",
        "outputId": "b4131562-8b69-4ea6-c145-4f8c4f8941dc"
      },
      "execution_count": null,
      "outputs": [
        {
          "output_type": "execute_result",
          "data": {
            "text/plain": [
              "int"
            ]
          },
          "metadata": {},
          "execution_count": 32
        }
      ]
    },
    {
      "cell_type": "code",
      "source": [
        "type('5')"
      ],
      "metadata": {
        "colab": {
          "base_uri": "https://localhost:8080/"
        },
        "id": "5SoaAQwnwjsN",
        "outputId": "2683c573-2f64-424f-ebb4-6d14095a6e49"
      },
      "execution_count": null,
      "outputs": [
        {
          "output_type": "execute_result",
          "data": {
            "text/plain": [
              "str"
            ]
          },
          "metadata": {},
          "execution_count": 9
        }
      ]
    },
    {
      "cell_type": "code",
      "source": [
        "#adição\n",
        "1+1"
      ],
      "metadata": {
        "colab": {
          "base_uri": "https://localhost:8080/"
        },
        "id": "Lmxayml-xJKt",
        "outputId": "ef0d8741-b23a-4bcc-c5a3-11f78c0fff24"
      },
      "execution_count": null,
      "outputs": [
        {
          "output_type": "execute_result",
          "data": {
            "text/plain": [
              "2"
            ]
          },
          "metadata": {},
          "execution_count": 13
        }
      ]
    },
    {
      "cell_type": "code",
      "source": [
        "#multiplicação\n",
        "3;14*15"
      ],
      "metadata": {
        "colab": {
          "base_uri": "https://localhost:8080/"
        },
        "id": "Xuywt8BxxXil",
        "outputId": "8cf2be88-d47c-409a-a860-d69cd0362a95"
      },
      "execution_count": null,
      "outputs": [
        {
          "output_type": "execute_result",
          "data": {
            "text/plain": [
              "210"
            ]
          },
          "metadata": {},
          "execution_count": 14
        }
      ]
    },
    {
      "cell_type": "code",
      "source": [
        "#divisão\n",
        "2915/333"
      ],
      "metadata": {
        "colab": {
          "base_uri": "https://localhost:8080/"
        },
        "id": "XUmwKj-UxdV9",
        "outputId": "a6ee4d7e-2435-4e8e-d40c-7c701c0cf803"
      },
      "execution_count": null,
      "outputs": [
        {
          "output_type": "execute_result",
          "data": {
            "text/plain": [
              "8.753753753753754"
            ]
          },
          "metadata": {},
          "execution_count": 15
        }
      ]
    },
    {
      "cell_type": "code",
      "source": [
        "#subtração\n",
        "43-12"
      ],
      "metadata": {
        "colab": {
          "base_uri": "https://localhost:8080/"
        },
        "id": "nyV6p24hxkql",
        "outputId": "af7fc3b9-7413-4e82-87c8-07b38b3c8869"
      },
      "execution_count": null,
      "outputs": [
        {
          "output_type": "execute_result",
          "data": {
            "text/plain": [
              "31"
            ]
          },
          "metadata": {},
          "execution_count": 16
        }
      ]
    },
    {
      "cell_type": "code",
      "source": [
        "#potencia\n",
        "2**12"
      ],
      "metadata": {
        "colab": {
          "base_uri": "https://localhost:8080/"
        },
        "id": "G3tTy68cxwTF",
        "outputId": "feb7b7c0-7484-46f7-e4c8-a030b8864ca9"
      },
      "execution_count": null,
      "outputs": [
        {
          "output_type": "execute_result",
          "data": {
            "text/plain": [
              "4096"
            ]
          },
          "metadata": {},
          "execution_count": 18
        }
      ]
    },
    {
      "cell_type": "code",
      "source": [
        "#a ordem das operações em python igual na matemática\n",
        "3+2+3*4*7**2-3"
      ],
      "metadata": {
        "colab": {
          "base_uri": "https://localhost:8080/"
        },
        "id": "X7pEIxqyx3QF",
        "outputId": "732af257-0090-4f50-9c43-15f829acd50f"
      },
      "execution_count": null,
      "outputs": [
        {
          "output_type": "execute_result",
          "data": {
            "text/plain": [
              "590"
            ]
          },
          "metadata": {},
          "execution_count": 19
        }
      ]
    },
    {
      "cell_type": "code",
      "source": [
        "#voce pode usar parenteses para especificar a ordem\n",
        "(2+15)*(3-19)"
      ],
      "metadata": {
        "colab": {
          "base_uri": "https://localhost:8080/"
        },
        "id": "AFd5Or52yRe9",
        "outputId": "c856ed49-3f5c-46b5-da96-45891963fa8f"
      },
      "execution_count": null,
      "outputs": [
        {
          "output_type": "execute_result",
          "data": {
            "text/plain": [
              "-272"
            ]
          },
          "metadata": {},
          "execution_count": 20
        }
      ]
    },
    {
      "cell_type": "code",
      "source": [
        "# variaveis\n",
        "numero = 3\n",
        "numero + numero"
      ],
      "metadata": {
        "colab": {
          "base_uri": "https://localhost:8080/"
        },
        "id": "bY-Op-J8zBot",
        "outputId": "ecc1a314-62e5-436c-8594-8c7fd0a5cf55"
      },
      "execution_count": null,
      "outputs": [
        {
          "output_type": "execute_result",
          "data": {
            "text/plain": [
              "10"
            ]
          },
          "metadata": {},
          "execution_count": 24
        }
      ]
    },
    {
      "cell_type": "code",
      "source": [
        "numero=15\n",
        "numero+numero\n",
        "numero=17\n",
        "numero= numero+numero\n",
        "print(numero)"
      ],
      "metadata": {
        "colab": {
          "base_uri": "https://localhost:8080/"
        },
        "id": "MfgVh-pVz-W8",
        "outputId": "41ce70a3-b3c3-4ac7-8e68-4d9ffab98b52"
      },
      "execution_count": null,
      "outputs": [
        {
          "output_type": "stream",
          "name": "stdout",
          "text": [
            "34\n"
          ]
        }
      ]
    },
    {
      "cell_type": "code",
      "source": [
        "numero=15\n",
        "print(numero)\n",
        "numero = numero+numero\n",
        "print(numero)\n",
        "numero=17\n",
        "print(numero)\n",
        "numero= numero+numero\n",
        "print(numero)"
      ],
      "metadata": {
        "colab": {
          "base_uri": "https://localhost:8080/"
        },
        "id": "gSIc181I0udc",
        "outputId": "4860b443-2aa4-458b-fa53-b65e17da0c74"
      },
      "execution_count": null,
      "outputs": [
        {
          "output_type": "stream",
          "name": "stdout",
          "text": [
            "15\n",
            "30\n",
            "17\n",
            "34\n"
          ]
        }
      ]
    },
    {
      "cell_type": "code",
      "source": [
        "#teste 1 palavra\n",
        "string1= \"quejio\""
      ],
      "metadata": {
        "id": "wknoqd0c1n0k"
      },
      "execution_count": null,
      "outputs": []
    },
    {
      "cell_type": "code",
      "source": [
        "#uma frase\n",
        "string2= \"ola tudo bem\""
      ],
      "metadata": {
        "id": "pYgrh4By2Ig0"
      },
      "execution_count": null,
      "outputs": []
    },
    {
      "cell_type": "code",
      "source": [
        "#com aspas simples\n",
        "string3='isso é uma string'"
      ],
      "metadata": {
        "id": "0M-RLqbD2r8t"
      },
      "execution_count": null,
      "outputs": []
    },
    {
      "cell_type": "code",
      "source": [
        "print(string1)\n",
        "print(string2)\n",
        "print(string3)"
      ],
      "metadata": {
        "colab": {
          "base_uri": "https://localhost:8080/"
        },
        "id": "EElLwSac28hU",
        "outputId": "675b24c2-539d-4fe4-ab01-5caf93cded7a"
      },
      "execution_count": null,
      "outputs": [
        {
          "output_type": "stream",
          "name": "stdout",
          "text": [
            "quejio\n",
            "ola tudo bem\n",
            "isso é uma string\n"
          ]
        }
      ]
    },
    {
      "cell_type": "code",
      "source": [
        "\"pedro\""
      ],
      "metadata": {
        "colab": {
          "base_uri": "https://localhost:8080/",
          "height": 35
        },
        "id": "LunwWkL23Zas",
        "outputId": "de0470f9-870b-4172-d2c5-d1a5679fc37b"
      },
      "execution_count": null,
      "outputs": [
        {
          "output_type": "execute_result",
          "data": {
            "text/plain": [
              "'pedro'"
            ],
            "application/vnd.google.colaboratory.intrinsic+json": {
              "type": "string"
            }
          },
          "metadata": {},
          "execution_count": 37
        }
      ]
    },
    {
      "cell_type": "code",
      "source": [
        "#teste com string\n",
        "string4= \"queijo\"\n",
        "print(string4)\n",
        "print(\"queijo\")"
      ],
      "metadata": {
        "colab": {
          "base_uri": "https://localhost:8080/"
        },
        "id": "v4G_rRvW3h20",
        "outputId": "e0a376ad-f020-42b5-dc09-3d21b73f6a8d"
      },
      "execution_count": null,
      "outputs": [
        {
          "output_type": "stream",
          "name": "stdout",
          "text": [
            "queijo\n",
            "queijo\n"
          ]
        }
      ]
    },
    {
      "cell_type": "code",
      "source": [
        "#utilize /n para saltar\n",
        "print(\"queijo \\n\\n queijo \\n isso e um teste\")"
      ],
      "metadata": {
        "colab": {
          "base_uri": "https://localhost:8080/"
        },
        "id": "U8PtbjWS4GYs",
        "outputId": "6f46430c-63ab-4075-8eee-595d36390aa1"
      },
      "execution_count": null,
      "outputs": [
        {
          "output_type": "stream",
          "name": "stdout",
          "text": [
            "queijo \n",
            "\n",
            " queijo \n",
            " isso e um teste\n"
          ]
        }
      ]
    },
    {
      "cell_type": "code",
      "source": [
        "#utilize \\t para espaços maiores\n",
        "print(\"im almost done doing this homework \\t\\t turn left \\t\\t ham and cheese\")"
      ],
      "metadata": {
        "colab": {
          "base_uri": "https://localhost:8080/"
        },
        "id": "CWsqpF7n4sGM",
        "outputId": "23e801f7-64d9-48f1-da4b-55cfc694abf5"
      },
      "execution_count": null,
      "outputs": [
        {
          "output_type": "stream",
          "name": "stdout",
          "text": [
            "im almost done doing this homework \t\t turn left \t\t ham and cheese\n"
          ]
        }
      ]
    },
    {
      "cell_type": "code",
      "source": [
        "#exercicio\n",
        "numero= 4\n",
        "\n",
        "numero=5\n",
        "numero+numero\n"
      ],
      "metadata": {
        "colab": {
          "base_uri": "https://localhost:8080/"
        },
        "id": "QfAtQfik5DNk",
        "outputId": "57bdfe1d-08cd-45c7-a239-4086ad15c643"
      },
      "execution_count": null,
      "outputs": [
        {
          "output_type": "execute_result",
          "data": {
            "text/plain": [
              "10"
            ]
          },
          "metadata": {},
          "execution_count": 53
        }
      ]
    },
    {
      "cell_type": "code",
      "source": [
        "#abcd\n",
        "print(numero2)"
      ],
      "metadata": {
        "colab": {
          "base_uri": "https://localhost:8080/"
        },
        "id": "Pp26VcLj63-r",
        "outputId": "904b573c-5d91-455a-d83c-e6abba7e4c8d"
      },
      "execution_count": null,
      "outputs": [
        {
          "output_type": "stream",
          "name": "stdout",
          "text": [
            "5\n"
          ]
        }
      ]
    },
    {
      "cell_type": "code",
      "source": [
        "#type shi\n",
        "numero= 3\n",
        "print(numero+numero)"
      ],
      "metadata": {
        "colab": {
          "base_uri": "https://localhost:8080/"
        },
        "id": "18K8KYZw7GDL",
        "outputId": "0d5f2d33-fc25-41ec-cfe2-6098fbee50ad"
      },
      "execution_count": null,
      "outputs": [
        {
          "output_type": "execute_result",
          "data": {
            "text/plain": [
              "int"
            ]
          },
          "metadata": {},
          "execution_count": 55
        }
      ]
    },
    {
      "cell_type": "code",
      "source": [
        "#crie uma variavel para armazenar seu nome, imprima ela e o seu tipo de dado\n",
        "string='lucas nunes santos da silva'\n",
        "print(string)\n",
        "print (type(string)  )"
      ],
      "metadata": {
        "colab": {
          "base_uri": "https://localhost:8080/"
        },
        "id": "saLGeCvw7apz",
        "outputId": "aec670fa-f51e-461d-87ab-e51a2bed6dd7"
      },
      "execution_count": null,
      "outputs": [
        {
          "output_type": "stream",
          "name": "stdout",
          "text": [
            "lucas nunes santos da silva\n",
            "<class 'str'>\n"
          ]
        }
      ]
    },
    {
      "cell_type": "code",
      "source": [
        "#declare duas variaveis,uma com um valor inteiro e outra com um valor float, imprima o resultado da soma das duas variaveis\n",
        "x=1\n",
        "y=3.4\n",
        "print(x+y+z)\n",
        "print(type(x))\n",
        "print(type(y))"
      ],
      "metadata": {
        "colab": {
          "base_uri": "https://localhost:8080/"
        },
        "id": "-oRerVWr8sBb",
        "outputId": "5cc7de4f-7bbd-487e-ef5d-278ef8d96834"
      },
      "execution_count": null,
      "outputs": [
        {
          "output_type": "stream",
          "name": "stdout",
          "text": [
            "12.4\n",
            "<class 'float'>\n"
          ]
        }
      ]
    },
    {
      "cell_type": "code",
      "source": [
        "a=5\n",
        "b=2.3\n",
        "print(type(a))\n",
        "print(type(b))\n",
        "soma =a+b\n",
        "print(c)\n",
        "print(f'{a} + 2.3 = {soma}')"
      ],
      "metadata": {
        "colab": {
          "base_uri": "https://localhost:8080/"
        },
        "id": "h7KuGzpu9zhi",
        "outputId": "92b2cbc5-da30-417c-e2eb-bad41ab4f29e"
      },
      "execution_count": null,
      "outputs": [
        {
          "output_type": "stream",
          "name": "stdout",
          "text": [
            "<class 'int'>\n",
            "<class 'float'>\n",
            "7.3\n",
            "5+ 2.3 = 7.3\n"
          ]
        }
      ]
    },
    {
      "cell_type": "code",
      "source": [
        "#teste numero 1\n",
        "b=3\n",
        "a=2\n",
        "print(a)\n",
        "print(b)\n",
        "multiplicação=b*a\n",
        "print(multiplicação)\n",
        "print(f'{a} * {b} = {multiplicação}')"
      ],
      "metadata": {
        "id": "tuZUJ71_BRL6",
        "colab": {
          "base_uri": "https://localhost:8080/"
        },
        "outputId": "09112f51-011d-43d7-b3dd-7d55ba92e4b8"
      },
      "execution_count": null,
      "outputs": [
        {
          "output_type": "stream",
          "name": "stdout",
          "text": [
            "2\n",
            "3\n",
            "6\n",
            "2 * 3 = 6\n"
          ]
        }
      ]
    },
    {
      "cell_type": "code",
      "source": [
        "#teste numero 5 sobre print variavel e etc\n",
        "string3=5\n",
        "string2=2\n",
        "print(f'{string3} + {string2} = {string3+string2}')\n",
        "multiplicação0=string3*string2\n",
        "print(f'{string3} * {string2} = {multiplicação0}')\n",
        "type(print(string3))\n",
        "type(print(string2))\n"
      ],
      "metadata": {
        "colab": {
          "base_uri": "https://localhost:8080/"
        },
        "id": "WAErDlL2oqA3",
        "outputId": "2851297e-78f7-4f8d-fd82-7ebea82c92e0"
      },
      "execution_count": null,
      "outputs": [
        {
          "output_type": "stream",
          "name": "stdout",
          "text": [
            "5 + 2 = 7\n",
            "5 * 2 = 10\n",
            "5\n",
            "2\n"
          ]
        },
        {
          "output_type": "execute_result",
          "data": {
            "text/plain": [
              "NoneType"
            ]
          },
          "metadata": {},
          "execution_count": 4
        }
      ]
    },
    {
      "cell_type": "code",
      "source": [
        "#obs\n",
        "type(\"nao \")"
      ],
      "metadata": {
        "id": "8fqMBJAsqF_2"
      },
      "execution_count": null,
      "outputs": []
    }
  ]
}