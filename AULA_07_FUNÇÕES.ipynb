{
  "nbformat": 4,
  "nbformat_minor": 0,
  "metadata": {
    "colab": {
      "provenance": [],
      "authorship_tag": "ABX9TyPjlTWCscpE2eo5ZSwKYnxg",
      "include_colab_link": true
    },
    "kernelspec": {
      "name": "python3",
      "display_name": "Python 3"
    },
    "language_info": {
      "name": "python"
    }
  },
  "cells": [
    {
      "cell_type": "markdown",
      "metadata": {
        "id": "view-in-github",
        "colab_type": "text"
      },
      "source": [
        "<a href=\"https://colab.research.google.com/github/luquinhas409/collab-codes/blob/main/AULA_07_FUN%C3%87%C3%95ES.ipynb\" target=\"_parent\"><img src=\"https://colab.research.google.com/assets/colab-badge.svg\" alt=\"Open In Colab\"/></a>"
      ]
    },
    {
      "cell_type": "code",
      "execution_count": null,
      "metadata": {
        "id": "tkkZWm5oLCKa"
      },
      "outputs": [],
      "source": [
        "def boas_vindas():\n",
        "    print(\"Bem-vindo a Ctrl+Play!\")"
      ]
    },
    {
      "cell_type": "code",
      "source": [
        "print(\"Bem-vindo a Ctrl+Play!\")\n"
      ],
      "metadata": {
        "colab": {
          "base_uri": "https://localhost:8080/"
        },
        "id": "76yVCyF8LnKr",
        "outputId": "5610702d-e47e-410f-cd49-3c8870b5b53c"
      },
      "execution_count": null,
      "outputs": [
        {
          "output_type": "stream",
          "name": "stdout",
          "text": [
            "Bem-vindo a Ctrl+Play!\n"
          ]
        }
      ]
    },
    {
      "cell_type": "code",
      "source": [
        "boas_vindas()"
      ],
      "metadata": {
        "colab": {
          "base_uri": "https://localhost:8080/"
        },
        "id": "YqapR2AYL32i",
        "outputId": "31b18758-af44-490a-9808-afef5a0d991e"
      },
      "execution_count": null,
      "outputs": [
        {
          "output_type": "stream",
          "name": "stdout",
          "text": [
            "Bem-vindo a Ctrl+Play!\n"
          ]
        }
      ]
    },
    {
      "cell_type": "code",
      "source": [
        "def  boas_vindas(nomeDeUsuario):\n",
        "     print(\"Bem-vindo(a),\", nomeDeUsuario , \"a Ctrl+Play!\")\n"
      ],
      "metadata": {
        "id": "-Mk79O29MTXS"
      },
      "execution_count": null,
      "outputs": []
    },
    {
      "cell_type": "code",
      "source": [
        "boas_vindas(\"Rennan\")"
      ],
      "metadata": {
        "colab": {
          "base_uri": "https://localhost:8080/"
        },
        "id": "N9R-hRKxNHy6",
        "outputId": "0a9ab459-faa5-44d2-a7c1-3f6b728dde67"
      },
      "execution_count": null,
      "outputs": [
        {
          "output_type": "stream",
          "name": "stdout",
          "text": [
            "Bem-vindo(a), Rennan a Ctrl+Play!\n"
          ]
        }
      ]
    },
    {
      "cell_type": "code",
      "source": [
        "# a formula da velocidade e igual a V = d/t\n",
        "def velocidade(distancia,tempo):\n",
        "  print(distancia/tempo)\n"
      ],
      "metadata": {
        "id": "2y6hlT_BNZ76"
      },
      "execution_count": null,
      "outputs": []
    },
    {
      "cell_type": "code",
      "source": [
        "velocidade(tempo=5, distancia=100)"
      ],
      "metadata": {
        "colab": {
          "base_uri": "https://localhost:8080/"
        },
        "id": "7K1HjjL5OVmz",
        "outputId": "4b7f3f4f-a4d9-473b-d7f1-3e36f530ad47"
      },
      "execution_count": null,
      "outputs": [
        {
          "output_type": "stream",
          "name": "stdout",
          "text": [
            "20.0\n"
          ]
        }
      ]
    },
    {
      "cell_type": "code",
      "source": [
        "def velocidade(tempo,distancia=1000):\n",
        "    print(distancia/tempo)"
      ],
      "metadata": {
        "id": "paBxG_6FPP0z"
      },
      "execution_count": null,
      "outputs": []
    },
    {
      "cell_type": "code",
      "source": [
        "#utilizando o valor default de distancia\n",
        "\n",
        "velocidade(25)"
      ],
      "metadata": {
        "colab": {
          "base_uri": "https://localhost:8080/"
        },
        "id": "lqV9QFBkPZYT",
        "outputId": "4fbbfd22-fe57-44f8-eb19-afd47c134a8e"
      },
      "execution_count": null,
      "outputs": [
        {
          "output_type": "stream",
          "name": "stdout",
          "text": [
            "40.0\n"
          ]
        }
      ]
    },
    {
      "cell_type": "code",
      "source": [
        "def menor(a,b):\n",
        "    if a<=b:\n",
        "        return a\n",
        "    else:\n",
        "        return b"
      ],
      "metadata": {
        "id": "vT-Yt5kgQQmT"
      },
      "execution_count": null,
      "outputs": []
    },
    {
      "cell_type": "code",
      "source": [
        "a=5\n",
        "b=1\n",
        "\n",
        "print(\"o menor valor entre\",a,\"e\",b,\"é\",menor(a,b))"
      ],
      "metadata": {
        "colab": {
          "base_uri": "https://localhost:8080/"
        },
        "id": "4GT1-z9cQjqL",
        "outputId": "245d78ea-97d6-4d59-8cb6-3ad94f87a3b2"
      },
      "execution_count": null,
      "outputs": [
        {
          "output_type": "stream",
          "name": "stdout",
          "text": [
            "o menor valor entre 5 e 1 é 1\n"
          ]
        }
      ]
    },
    {
      "cell_type": "code",
      "source": [
        "def prepara_açai(*ingredientes, tamanho=\"medio\"):\n",
        "    print(\"\\n Preparando um Açai\", tamanho, \"com os seguintes ingredientes:\")\n",
        "    for ingrediente in ingredientes:\n",
        "        print(\"- \", ingrediente)\n"
      ],
      "metadata": {
        "id": "FMEUqGTpQ__s"
      },
      "execution_count": null,
      "outputs": []
    },
    {
      "cell_type": "code",
      "source": [
        "prepara_açai(\"banana\",\"granola\")\n",
        "prepara_açai(\"morango\",\"kiwi\",\"leite em po\",tamanho=\"grande\")\n",
        "prepara_açai(\"banana\",tamanho=\"pequeno\")\n",
        "prepara_açai()"
      ],
      "metadata": {
        "colab": {
          "base_uri": "https://localhost:8080/"
        },
        "id": "PyyNLPfpRc8z",
        "outputId": "2f6cbf35-15f2-4b9e-9303-1302795c2ff6"
      },
      "execution_count": null,
      "outputs": [
        {
          "output_type": "stream",
          "name": "stdout",
          "text": [
            "\n",
            " Preparando um Açai medio com os seguintes ingredientes:\n",
            "-  banana\n",
            "-  granola\n",
            "\n",
            " Preparando um Açai grande com os seguintes ingredientes:\n",
            "-  morango\n",
            "-  kiwi\n",
            "-  leite em po\n",
            "\n",
            " Preparando um Açai pequeno com os seguintes ingredientes:\n",
            "-  banana\n",
            "\n",
            " Preparando um Açai medio com os seguintes ingredientes:\n"
          ]
        }
      ]
    },
    {
      "cell_type": "code",
      "source": [
        "def dobraLençol(lençol,gaveta):\n",
        "    if(lençol<gaveta):\n",
        "        return 0\n",
        "    else:\n",
        "        return 1 + dobraLençol(lençol/2,gaveta)\n",
        "\n",
        "dobraLençol(200,25)"
      ],
      "metadata": {
        "colab": {
          "base_uri": "https://localhost:8080/"
        },
        "id": "BiCFj4hJUyQH",
        "outputId": "53befcf0-2a5b-4562-be04-d734fbb0ec39"
      },
      "execution_count": null,
      "outputs": [
        {
          "output_type": "execute_result",
          "data": {
            "text/plain": [
              "4"
            ]
          },
          "metadata": {},
          "execution_count": 31
        }
      ]
    }
  ]
}