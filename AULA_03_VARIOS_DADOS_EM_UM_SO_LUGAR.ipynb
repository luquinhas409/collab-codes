{
  "nbformat": 4,
  "nbformat_minor": 0,
  "metadata": {
    "colab": {
      "provenance": [],
      "authorship_tag": "ABX9TyPYWLvEFjofBJReD6U43rE5",
      "include_colab_link": true
    },
    "kernelspec": {
      "name": "python3",
      "display_name": "Python 3"
    },
    "language_info": {
      "name": "python"
    }
  },
  "cells": [
    {
      "cell_type": "markdown",
      "metadata": {
        "id": "view-in-github",
        "colab_type": "text"
      },
      "source": [
        "<a href=\"https://colab.research.google.com/github/luquinhas409/collab-codes/blob/main/AULA_03_VARIOS_DADOS_EM_UM_SO_LUGAR.ipynb\" target=\"_parent\"><img src=\"https://colab.research.google.com/assets/colab-badge.svg\" alt=\"Open In Colab\"/></a>"
      ]
    },
    {
      "cell_type": "code",
      "execution_count": null,
      "metadata": {
        "colab": {
          "base_uri": "https://localhost:8080/"
        },
        "id": "7YlG1NXrulBt",
        "outputId": "e5f7a5d5-1f95-4374-d222-b52392a286e2"
      },
      "outputs": [
        {
          "output_type": "stream",
          "name": "stdout",
          "text": [
            "['maria', 'joao', 'pedro', 'lucas', 'valentina']\n"
          ]
        }
      ],
      "source": [
        "s#listas:sao uma coleção de itens em uma ordem especifica,pode criar uma lista com o que voce quiser\n",
        "\n",
        "convidado=[\"maria\",\"joao\",\"pedro\",\"lucas\",\"valentina\"]\n",
        "print(convidado)"
      ]
    },
    {
      "cell_type": "code",
      "source": [
        "#nos indices em Python começam do valor 0\n",
        "print(\"primeiro convidado da festa: \"+convidado[0])\n",
        "print(\"quarto convidado da festa: \"+convidado[3])"
      ],
      "metadata": {
        "colab": {
          "base_uri": "https://localhost:8080/"
        },
        "id": "pxADjV9FwyQd",
        "outputId": "8ccad71a-4999-402f-fbc4-6210b1a23101"
      },
      "execution_count": null,
      "outputs": [
        {
          "output_type": "stream",
          "name": "stdout",
          "text": [
            "primeiro convidado da festa: maria\n",
            "quarto convidado da festa: lucas\n"
          ]
        }
      ]
    },
    {
      "cell_type": "code",
      "source": [
        "#indice normal e indice negativo\n",
        "'''\n",
        " ['lucas','pedro','joao','maria','jose','valentina']\n",
        "  0         1      2       3       4         5\n",
        " -6        -5     -4      -3      -2        -1\n",
        " '''\n",
        "\n",
        "convidados=[\"lucas\",\"pedro\",\"joao\",\"maria\",\"jose\",\"valentina\"]\n",
        "print(convidados)\n",
        "print(convidados[-2])\n",
        "print(convidados[-3])\n"
      ],
      "metadata": {
        "colab": {
          "base_uri": "https://localhost:8080/"
        },
        "id": "PvcTQLiry6FU",
        "outputId": "5064386d-c5ad-411c-fb3f-4ed132797110"
      },
      "execution_count": null,
      "outputs": [
        {
          "output_type": "stream",
          "name": "stdout",
          "text": [
            "['lucas', 'pedro', 'joao', 'maria', 'jose', 'valentina']\n",
            "jose\n",
            "maria\n"
          ]
        }
      ]
    },
    {
      "cell_type": "code",
      "source": [
        "#trocar\n",
        "print(convidados)\n",
        "convidados[0]=\"alfredo\"\n",
        "print(convidados)\n",
        "convidados[2]=\"joaquim\"\n",
        "print(convidados)"
      ],
      "metadata": {
        "colab": {
          "base_uri": "https://localhost:8080/"
        },
        "id": "04jumSD51JAE",
        "outputId": "080909ba-644b-4349-ff6b-7aa78510a0d4"
      },
      "execution_count": null,
      "outputs": [
        {
          "output_type": "stream",
          "name": "stdout",
          "text": [
            "['lucas', 'pedro', 'joao', 'maria', 'jose', 'valentina']\n",
            "['alfredo', 'pedro', 'joao', 'maria', 'jose', 'valentina']\n",
            "['alfredo', 'pedro', 'joaquim', 'maria', 'jose', 'valentina']\n"
          ]
        }
      ]
    },
    {
      "cell_type": "code",
      "source": [
        "#adiciono no final\n",
        "produtos=[\" sabonete \",\" sabao \",\" pasta\"]\n",
        "print(produtos)\n",
        "produtos.append(\"shampoo\")\n",
        "print(produtos)\n",
        "produtos.append(\" condicionador \")\n",
        "produtos.append(\"desodorante\")\n",
        "produtos.append(\"escova de dente\")\n",
        "print(produtos)"
      ],
      "metadata": {
        "colab": {
          "base_uri": "https://localhost:8080/"
        },
        "id": "6OwN3lE42ITk",
        "outputId": "db540eff-76e3-479b-f8d1-8059d07c0d12"
      },
      "execution_count": null,
      "outputs": [
        {
          "output_type": "stream",
          "name": "stdout",
          "text": [
            "[' sabonete ', ' sabao ', ' pasta']\n",
            "[' sabonete ', ' sabao ', ' pasta', 'shampoo']\n",
            "[' sabonete ', ' sabao ', ' pasta', 'shampoo', ' condicionador ', 'desodorante', 'escova de dente']\n"
          ]
        }
      ]
    },
    {
      "cell_type": "code",
      "source": [
        "#adiciono onde eu queria\n",
        "hortfruti=[\"tomate \",\" abacaxi \",\" pera \",\" laranja \",\" abacate \"]\n",
        "print(hortfruti)\n",
        "hortfruti.insert(0,\"banana\")\n",
        "print(hortfruti)\n",
        "hortfruti.insert(4,\"maça\")\n",
        "print(hortfruti)"
      ],
      "metadata": {
        "colab": {
          "base_uri": "https://localhost:8080/"
        },
        "id": "OOJfepV13rtM",
        "outputId": "3073fbc2-3d25-4c5c-a7ce-4f778db7cd08"
      },
      "execution_count": null,
      "outputs": [
        {
          "output_type": "stream",
          "name": "stdout",
          "text": [
            "['tomate ', ' abacaxi ', ' pera ', ' laranja ', ' abacate ']\n",
            "['banana', 'tomate ', ' abacaxi ', ' pera ', ' laranja ', ' abacate ']\n",
            "['banana', 'tomate ', ' abacaxi ', ' pera ', 'maça', ' laranja ', ' abacate ']\n"
          ]
        }
      ]
    },
    {
      "cell_type": "code",
      "source": [
        "#deletar um item de uma lista\n",
        "del hortfruti[1]\n",
        "print(hortfruti)\n",
        "frutaremovida=hortfruti.pop()\n",
        "print(frutaremovida)\n",
        "print(hortfruti)\n"
      ],
      "metadata": {
        "colab": {
          "base_uri": "https://localhost:8080/"
        },
        "id": "wQ_zGjzE5LEz",
        "outputId": "ee9e5ae2-890d-4895-c32e-d68367b0d74d"
      },
      "execution_count": null,
      "outputs": [
        {
          "output_type": "stream",
          "name": "stdout",
          "text": [
            "['banana', ' abacaxi ', ' pera ', 'maça', ' laranja ', ' abacate ']\n",
            " abacate \n",
            "['banana', ' abacaxi ', ' pera ', 'maça', ' laranja ']\n"
          ]
        }
      ]
    },
    {
      "cell_type": "code",
      "source": [
        "hortfruti.pop()\n",
        "print(hortfruti)"
      ],
      "metadata": {
        "colab": {
          "base_uri": "https://localhost:8080/"
        },
        "id": "fAQf6zNU6KKT",
        "outputId": "dbf77d38-0650-4f03-f4ee-2f11a509372e"
      },
      "execution_count": null,
      "outputs": [
        {
          "output_type": "stream",
          "name": "stdout",
          "text": [
            "['banana', ' abacaxi ', ' pera ', 'maça']\n"
          ]
        }
      ]
    },
    {
      "cell_type": "code",
      "source": [
        "segundo=hortfruti.pop(1)\n",
        "print(' removeu '+ segundo)\n",
        "print(hortfruti)"
      ],
      "metadata": {
        "colab": {
          "base_uri": "https://localhost:8080/"
        },
        "id": "s9v2M4Hl62Vr",
        "outputId": "434bccbd-21bd-462b-aceb-0a7a900f040f"
      },
      "execution_count": null,
      "outputs": [
        {
          "output_type": "stream",
          "name": "stdout",
          "text": [
            " removeu  abacaxi \n",
            "['banana', ' pera ', 'maça', ' laranja ', ' abacate ']\n"
          ]
        }
      ]
    },
    {
      "cell_type": "code",
      "source": [
        "mercado= [\" queijo \",\" pao \",\" carne \",\" requeijao \",\" ketchup \"]\n",
        "print(mercado)\n",
        "laticinios=\" queijo \"\n",
        "mercado.remove(laticinios)\n",
        "print(mercado)\n",
        "print(laticinios+\" foi removido pois estava fora da validade \")"
      ],
      "metadata": {
        "colab": {
          "base_uri": "https://localhost:8080/"
        },
        "id": "rzWOGyIV7uUL",
        "outputId": "7992403a-6871-4675-db0a-0d3e665c82e2"
      },
      "execution_count": null,
      "outputs": [
        {
          "output_type": "stream",
          "name": "stdout",
          "text": [
            "[' queijo ', ' pao ', ' carne ', ' requeijao ', ' ketchup ']\n",
            "[' pao ', ' carne ', ' requeijao ', ' ketchup ']\n",
            " queijo  foi removido pois estava fora da validade \n"
          ]
        }
      ]
    },
    {
      "cell_type": "code",
      "source": [
        "#\n",
        "numeros=[]\n",
        "numeros.append(input(\"digite um numero\"))\n",
        "numeros.append(input(\"digite um numero\"))\n",
        "numeros.append(input(\"digite um numero\"))\n",
        "print(numeros)"
      ],
      "metadata": {
        "colab": {
          "base_uri": "https://localhost:8080/"
        },
        "id": "hlWZSe-59dBL",
        "outputId": "c65dec12-7edd-460d-e84d-659d7bbf67cb"
      },
      "execution_count": null,
      "outputs": [
        {
          "output_type": "stream",
          "name": "stdout",
          "text": [
            "digite um numero2\n",
            "digite um numero5\n",
            "digite um numero4\n",
            "['2', '5', '4']\n"
          ]
        }
      ]
    },
    {
      "cell_type": "code",
      "source": [
        "numeros.sort()\n",
        "print(numeros)\n",
        "numeros.sort(reverse=True)\n",
        "print(numeros)\n",
        "print(sorted(numeros))\n",
        "print(sorted(numeros, reverse=True))"
      ],
      "metadata": {
        "colab": {
          "base_uri": "https://localhost:8080/"
        },
        "id": "xdpYHYYY_WFa",
        "outputId": "429b8e34-9907-4d53-e21e-4d9a8e8f329f"
      },
      "execution_count": null,
      "outputs": [
        {
          "output_type": "stream",
          "name": "stdout",
          "text": [
            "['2', '4', '5']\n",
            "['5', '4', '2']\n",
            "['2', '4', '5']\n",
            "['5', '4', '2']\n"
          ]
        }
      ]
    },
    {
      "cell_type": "code",
      "source": [
        "jurados= [\" marcos \",\" Jose \",\" Ana\",\" davi \"]\n",
        "jurados.reverse()\n",
        "print(jurados)\n",
        "#observe que nao e a ordem alfabetica inversa\n",
        "#exibir o tamanho de uma lista qualquer\n",
        "print(len(jurados))\n",
        "#criar uma lista de numeros qualquer\n",
        "jurados=list(range(1,5))\n",
        "print(jurados)\n",
        "#maior valor\n",
        "print(max(jurados))\n",
        "print(jurados)\n",
        "#fatia de uma lista\n",
        "print(jurados[2:4])\n",
        "#para copiar uma lista\n",
        "juradoscopia=jurados[:]\n",
        "print(juradoscopia)\n"
      ],
      "metadata": {
        "colab": {
          "base_uri": "https://localhost:8080/"
        },
        "id": "oX0Ox028BHzS",
        "outputId": "93cd56c7-898a-42cc-a778-02b8215266d7"
      },
      "execution_count": null,
      "outputs": [
        {
          "output_type": "stream",
          "name": "stdout",
          "text": [
            "[' davi ', ' Ana', ' Jose ', ' marcos ']\n",
            "4\n",
            "[1, 2, 3, 4]\n",
            "4\n",
            "[1, 2, 3, 4]\n",
            "[3, 4]\n",
            "[1, 2, 3, 4]\n"
          ]
        }
      ]
    },
    {
      "cell_type": "code",
      "source": [
        "#matriz\n",
        "futebol=[[\" barcelona \",\" PSG \",\" portugal \",\"treze\"],[\"pedro\",\"maria\",\"paulo\",\"ricardo\"]]\n",
        "print(futebol)\n",
        "print(futebol[0])\n",
        "print(futebol[1])\n",
        "print(futebol[0][1])\n",
        "print(futebol[1][3])"
      ],
      "metadata": {
        "colab": {
          "base_uri": "https://localhost:8080/"
        },
        "id": "77DDLxNFFLuZ",
        "outputId": "b87143ee-39fe-40fa-d71a-38d01d7c4e3d"
      },
      "execution_count": null,
      "outputs": [
        {
          "output_type": "stream",
          "name": "stdout",
          "text": [
            "[[' barcelona ', ' PSG ', ' portugal ', 'treze'], ['pedro', 'maria', 'paulo', 'ricardo']]\n",
            "[' barcelona ', ' PSG ', ' portugal ', 'treze']\n",
            "['pedro', 'maria', 'paulo', 'ricardo']\n",
            " PSG \n",
            "ricardo\n"
          ]
        }
      ]
    },
    {
      "cell_type": "code",
      "source": [
        "zapzap=[\"pedro\",\"joao\",\"maria\",\"ricardo\",\"diva\",\"lucas\"]\n",
        "print(zapzap)\n",
        "print(zapzap.sort(reverse=True))\n",
        "type(zapzap)\n",
        "zapzap=[\"pedro\",\"joao\",\"maria\",\"ricardo\",\"diva\",\"lucas\"]\n",
        "print(zapzap)\n",
        "zapzap.sort(reverse=True) #The sort method modifies the list in-place and returns None\n",
        "print(zapzap)\n",
        "type(zapzap)\n",
        "print(zapzap[2:3])\n",
        "input(\" seus contatos foram retornados ao seu antigo numero!\"+ str(zapzap))\n",
        "del zapzap[3]\n",
        "print(zapzap)"
      ],
      "metadata": {
        "colab": {
          "base_uri": "https://localhost:8080/"
        },
        "id": "rgHTAHvxFNwM",
        "outputId": "c790039d-e0fa-4399-93db-65dce92f0ccf"
      },
      "execution_count": null,
      "outputs": [
        {
          "output_type": "stream",
          "name": "stdout",
          "text": [
            "['pedro', 'joao', 'maria', 'ricardo', 'diva', 'lucas']\n",
            "None\n",
            "['pedro', 'joao', 'maria', 'ricardo', 'diva', 'lucas']\n",
            "['ricardo', 'pedro', 'maria', 'lucas', 'joao', 'diva']\n",
            "['maria']\n",
            " seus contatos foram retornados ao seu antigo numero!['ricardo', 'pedro', 'maria', 'lucas', 'joao', 'diva']SIM\n",
            "['ricardo', 'pedro', 'maria', 'joao', 'diva']\n"
          ]
        }
      ]
    }
  ]
}