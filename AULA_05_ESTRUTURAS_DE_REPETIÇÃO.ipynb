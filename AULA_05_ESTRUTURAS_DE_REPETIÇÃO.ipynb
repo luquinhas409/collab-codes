{
  "nbformat": 4,
  "nbformat_minor": 0,
  "metadata": {
    "colab": {
      "provenance": [],
      "authorship_tag": "ABX9TyM1Rn617OdQhGZ6/earr7hs",
      "include_colab_link": true
    },
    "kernelspec": {
      "name": "python3",
      "display_name": "Python 3"
    },
    "language_info": {
      "name": "python"
    }
  },
  "cells": [
    {
      "cell_type": "markdown",
      "metadata": {
        "id": "view-in-github",
        "colab_type": "text"
      },
      "source": [
        "<a href=\"https://colab.research.google.com/github/luquinhas409/collab-codes/blob/main/AULA_05_ESTRUTURAS_DE_REPETI%C3%87%C3%83O.ipynb\" target=\"_parent\"><img src=\"https://colab.research.google.com/assets/colab-badge.svg\" alt=\"Open In Colab\"/></a>"
      ]
    },
    {
      "cell_type": "code",
      "execution_count": null,
      "metadata": {
        "id": "vQTe-GUumsQE"
      },
      "outputs": [],
      "source": [
        "#estrutura de repetição for\n",
        "for item in objeto:\n",
        "   codigos que vão repetir"
      ]
    },
    {
      "cell_type": "code",
      "source": [
        "#exemplo sem estrutura de repetição\n",
        "numeros= [1,2,3,4,5]\n",
        "print(numeros[0])\n",
        "print(numeros[1])\n",
        "print(numeros[2])\n",
        "print(numeros[3])\n",
        "print(numeros[4])"
      ],
      "metadata": {
        "colab": {
          "base_uri": "https://localhost:8080/"
        },
        "id": "TxksLqMQn2hS",
        "outputId": "7a437ca0-c861-4513-b0c0-1f7d728e81a4"
      },
      "execution_count": null,
      "outputs": [
        {
          "output_type": "stream",
          "name": "stdout",
          "text": [
            "1\n",
            "2\n",
            "3\n",
            "4\n",
            "5\n"
          ]
        }
      ]
    },
    {
      "cell_type": "code",
      "source": [
        "#exemplo com estrutura de repetição\n",
        "numeros=[1,2,3,4,5,6,7,8,9,10]\n",
        "for n in numeros:\n",
        "  print(n)"
      ],
      "metadata": {
        "colab": {
          "base_uri": "https://localhost:8080/"
        },
        "id": "zECsbn_4olii",
        "outputId": "ac9953e6-b83d-4428-94d8-8cc20ab7f901"
      },
      "execution_count": null,
      "outputs": [
        {
          "output_type": "stream",
          "name": "stdout",
          "text": [
            "1\n",
            "2\n",
            "3\n",
            "4\n",
            "5\n",
            "6\n",
            "7\n",
            "8\n",
            "9\n",
            "10\n"
          ]
        }
      ]
    },
    {
      "cell_type": "code",
      "source": [
        "#estrutura de repetição range\n",
        "for n in range(1,11):\n",
        "  print(n)"
      ],
      "metadata": {
        "colab": {
          "base_uri": "https://localhost:8080/"
        },
        "id": "g2TWMMwgpCYZ",
        "outputId": "96071e75-3214-4010-ad57-b2d8fcac3e67"
      },
      "execution_count": null,
      "outputs": [
        {
          "output_type": "stream",
          "name": "stdout",
          "text": [
            "1\n",
            "2\n",
            "3\n",
            "4\n",
            "5\n",
            "6\n",
            "7\n",
            "8\n",
            "9\n",
            "10\n"
          ]
        }
      ]
    },
    {
      "cell_type": "code",
      "source": [
        "#exibindo numeros pares ate 10, tente adicionar o comando else para exibir os impares\n",
        "for n in range(1,11):\n",
        "   if(n %2==0):\n",
        "      print(f\"esse numero e par: {n}\")\n",
        "   else:\n",
        "    print(f\"esse numero e impar: {n}\")\n",
        "\n"
      ],
      "metadata": {
        "colab": {
          "base_uri": "https://localhost:8080/"
        },
        "id": "3SP0IR05pueJ",
        "outputId": "da079411-4f46-44e4-c42f-785e2c45662a"
      },
      "execution_count": null,
      "outputs": [
        {
          "output_type": "stream",
          "name": "stdout",
          "text": [
            "esse numero e impar: 1\n",
            "esse numero e par: 2\n",
            "esse numero e impar: 3\n",
            "esse numero e par: 4\n",
            "esse numero e impar: 5\n",
            "esse numero e par: 6\n",
            "esse numero e impar: 7\n",
            "esse numero e par: 8\n",
            "esse numero e impar: 9\n",
            "esse numero e par: 10\n"
          ]
        }
      ]
    },
    {
      "cell_type": "code",
      "source": [
        "#interando sobre uma string\n",
        "for letra in \"lucas\":\n",
        "      print(letra)"
      ],
      "metadata": {
        "colab": {
          "base_uri": "https://localhost:8080/"
        },
        "id": "JWERpKjKsB4x",
        "outputId": "213809d0-526a-4568-f026-d5d196458afa"
      },
      "execution_count": null,
      "outputs": [
        {
          "output_type": "stream",
          "name": "stdout",
          "text": [
            "l\n",
            "u\n",
            "c\n",
            "a\n",
            "s\n"
          ]
        }
      ]
    },
    {
      "cell_type": "code",
      "source": [
        "#exemplo de estrutura com while\n",
        "soma = 0\n",
        "numeros = range(1,1000)\n",
        "i=0\n",
        "while soma < 100:\n",
        "    soma += numeros[i]\n",
        "    i+= 1\n",
        "print(soma)"
      ],
      "metadata": {
        "colab": {
          "base_uri": "https://localhost:8080/"
        },
        "id": "7rjD6ABXslRQ",
        "outputId": "614a2eb2-e3b3-4f31-b490-1b1fd40313e1"
      },
      "execution_count": null,
      "outputs": [
        {
          "output_type": "stream",
          "name": "stdout",
          "text": [
            "105\n"
          ]
        }
      ]
    },
    {
      "cell_type": "code",
      "source": [
        "#estrutura de repetição com while e else\n",
        "x=0\n",
        "\n",
        "while x < 5:\n",
        "    print('valor de x : ',x)\n",
        "    print(' x ainda e menor que 5, vamos somar 1')\n",
        "    x+=1\n",
        "\n",
        "else:\n",
        "    print('FIM!')"
      ],
      "metadata": {
        "colab": {
          "base_uri": "https://localhost:8080/"
        },
        "id": "5VffgwGbup5o",
        "outputId": "df27d234-c3ad-4d21-9ba0-30d6aaf63856"
      },
      "execution_count": null,
      "outputs": [
        {
          "output_type": "stream",
          "name": "stdout",
          "text": [
            "valor de x :  0\n",
            " x ainda e menor que 5, vamos somar 1\n",
            "valor de x :  1\n",
            " x ainda e menor que 5, vamos somar 1\n",
            "valor de x :  2\n",
            " x ainda e menor que 5, vamos somar 1\n",
            "valor de x :  3\n",
            " x ainda e menor que 5, vamos somar 1\n",
            "valor de x :  4\n",
            " x ainda e menor que 5, vamos somar 1\n",
            "FIM!\n"
          ]
        }
      ]
    },
    {
      "cell_type": "code",
      "source": [
        "#controlando loops com Break. Continue e Pass\n",
        "while condição:\n",
        "    codigo\n",
        "    if teste1:\n",
        "      break\n",
        "    if teste2:\n",
        "        continue\n",
        "    else:\n",
        "        pass\n",
        "codigo"
      ],
      "metadata": {
        "id": "ofLzsIvYwMn4"
      },
      "execution_count": null,
      "outputs": []
    },
    {
      "cell_type": "code",
      "source": [
        "soma = 0\n",
        "x = 0\n",
        "\n",
        "while x < 1000:\n",
        "   x+=1\n",
        "   if x%3==0:\n",
        "    print(x)\n",
        "    soma +=x\n",
        "   else:\n",
        "    if x%5==0:\n",
        "      pass\n",
        "    else:\n",
        "      print('buscando.....')\n",
        "      continue\n",
        "\n",
        "    if soma>300:\n",
        "       print(soma)\n",
        "       break\n"
      ],
      "metadata": {
        "colab": {
          "base_uri": "https://localhost:8080/"
        },
        "id": "oEJ_3l-Fw-jY",
        "outputId": "eccb35f3-f759-48ff-8b73-a7132f444af3"
      },
      "execution_count": null,
      "outputs": [
        {
          "output_type": "stream",
          "name": "stdout",
          "text": [
            "buscando.....\n",
            "buscando.....\n",
            "3\n",
            "buscando.....\n",
            "6\n",
            "buscando.....\n",
            "buscando.....\n",
            "9\n",
            "buscando.....\n",
            "12\n",
            "buscando.....\n",
            "buscando.....\n",
            "15\n",
            "buscando.....\n",
            "buscando.....\n",
            "18\n",
            "buscando.....\n",
            "21\n",
            "buscando.....\n",
            "buscando.....\n",
            "24\n",
            "buscando.....\n",
            "27\n",
            "buscando.....\n",
            "buscando.....\n",
            "30\n",
            "buscando.....\n",
            "buscando.....\n",
            "33\n",
            "buscando.....\n",
            "36\n",
            "buscando.....\n",
            "buscando.....\n",
            "39\n",
            "buscando.....\n",
            "42\n",
            "buscando.....\n",
            "buscando.....\n",
            "45\n",
            "buscando.....\n",
            "buscando.....\n",
            "48\n",
            "buscando.....\n",
            "408\n"
          ]
        }
      ]
    },
    {
      "cell_type": "code",
      "source": [
        "#este codigo ate o infinito e alem,nao aperte o botao\n",
        "while True:\n",
        "   print('infinito')\n"
      ],
      "metadata": {
        "id": "QQE2aCe31mPo"
      },
      "execution_count": null,
      "outputs": []
    },
    {
      "cell_type": "code",
      "source": [
        "#faça um programa que receba de 1 a 10 e imprima a tabuada desse numero\n",
        "numero = int(input('digite um numero de 1 a 10: '))\n",
        "if 1 <= numero <= 10:\n",
        "  print(f\"\\nTabuada do {numero}:\")\n",
        "  for i in range(1,11):\n",
        "      resultado = numero * i\n",
        "      print(f\"{numero} x {i} = {resultado}\")\n",
        "else:\n",
        "   print(\"numero invalido! Por favor, digite um numero de 1 a 10...\")"
      ],
      "metadata": {
        "colab": {
          "base_uri": "https://localhost:8080/"
        },
        "id": "KikuFXyk15lX",
        "outputId": "ce02aa67-446f-4980-cae1-bae19e504b4e"
      },
      "execution_count": null,
      "outputs": [
        {
          "output_type": "stream",
          "name": "stdout",
          "text": [
            "digite um numero de 1 a 10: 10\n",
            "\n",
            "Tabuada do 10:\n",
            "10 x 1 = 10\n",
            "10 x 2 = 20\n",
            "10 x 3 = 30\n",
            "10 x 4 = 40\n",
            "10 x 5 = 50\n",
            "10 x 6 = 60\n",
            "10 x 7 = 70\n",
            "10 x 8 = 80\n",
            "10 x 9 = 90\n",
            "10 x 10 = 100\n"
          ]
        }
      ]
    },
    {
      "cell_type": "code",
      "source": [
        "#faça um programa que recebe do usuario 10 vlaores de numeros inteiros, armazena em um vetor e apos percorre-lo exibe qual e o maior valor e sua posição :)\n",
        "numero = []\n",
        "for i in range(16):\n",
        "  valor = int(input('digite um numero: '))\n",
        "  numero.append(valor)\n",
        "maior_valor = numero[0]\n",
        "posiçao = 0\n",
        "for  i in range(i,len(numero)):\n",
        "    if numero[1] > maior_valor:\n",
        "      maior_valor = numero[i]\n",
        "      posiçao = 1\n",
        "      print(f\"\\nO maior valor e {maior_valor} e esta na posiçao {posiçao} da lista....\")"
      ],
      "metadata": {
        "colab": {
          "base_uri": "https://localhost:8080/"
        },
        "id": "LCKfyATH4Vdv",
        "outputId": "c6f23871-014a-44a2-ca17-af76d0a37090"
      },
      "execution_count": null,
      "outputs": [
        {
          "output_type": "stream",
          "name": "stdout",
          "text": [
            "digite um numero: 11\n",
            "digite um numero: 12\n",
            "digite um numero: 13\n",
            "digite um numero: 14\n",
            "digite um numero: 15\n",
            "digite um numero: 16\n",
            "digite um numero: 17\n",
            "digite um numero: 18\n",
            "digite um numero: 19\n",
            "digite um numero: 20\n",
            "digite um numero: 21\n",
            "digite um numero: 22\n",
            "digite um numero: 23\n",
            "digite um numero: 30\n",
            "digite um numero: 40\n",
            "digite um numero: 50\n",
            "\n",
            "O maior valor e 50 e esta na posiçao 1 da lista....\n"
          ]
        }
      ]
    }
  ]
}