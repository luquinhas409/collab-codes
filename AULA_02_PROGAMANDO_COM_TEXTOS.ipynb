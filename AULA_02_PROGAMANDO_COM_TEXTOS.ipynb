{
  "nbformat": 4,
  "nbformat_minor": 0,
  "metadata": {
    "colab": {
      "provenance": [],
      "authorship_tag": "ABX9TyOo2hIC/aN5j9jhNdz+pT9i",
      "include_colab_link": true
    },
    "kernelspec": {
      "name": "python3",
      "display_name": "Python 3"
    },
    "language_info": {
      "name": "python"
    }
  },
  "cells": [
    {
      "cell_type": "markdown",
      "metadata": {
        "id": "view-in-github",
        "colab_type": "text"
      },
      "source": [
        "<a href=\"https://colab.research.google.com/github/luquinhas409/collab-codes/blob/main/AULA_02_PROGAMANDO_COM_TEXTOS.ipynb\" target=\"_parent\"><img src=\"https://colab.research.google.com/assets/colab-badge.svg\" alt=\"Open In Colab\"/></a>"
      ]
    },
    {
      "cell_type": "markdown",
      "source": [
        "# **criando uma string**"
      ],
      "metadata": {
        "id": "OmzgBzdywvNi"
      }
    },
    {
      "cell_type": "code",
      "execution_count": null,
      "metadata": {
        "colab": {
          "base_uri": "https://localhost:8080/"
        },
        "id": "5mGGtmkTvO-C",
        "outputId": "26cce5ca-6197-4f98-ac57-262300446193"
      },
      "outputs": [
        {
          "output_type": "stream",
          "name": "stdout",
          "text": [
            "oi\n"
          ]
        }
      ],
      "source": [
        "#uma palavra\n",
        "string1=\"oi\"\n",
        "print(string1)"
      ]
    },
    {
      "cell_type": "code",
      "source": [
        "#uma frase\n",
        "string2=\"oi tudo bem?\"\n",
        "print(string2)"
      ],
      "metadata": {
        "colab": {
          "base_uri": "https://localhost:8080/"
        },
        "id": "bYa4YKZQxYyx",
        "outputId": "c78e1cab-1bc9-4425-9e73-e6b3be5f28ad"
      },
      "execution_count": null,
      "outputs": [
        {
          "output_type": "stream",
          "name": "stdout",
          "text": [
            "oi tudo bem?\n"
          ]
        }
      ]
    },
    {
      "cell_type": "code",
      "source": [
        "#com aspas simples\n",
        "string3='ola'\n",
        "print(string3)"
      ],
      "metadata": {
        "colab": {
          "base_uri": "https://localhost:8080/"
        },
        "id": "gN1OQrOSxehB",
        "outputId": "7044ef44-295c-4c54-c5f4-03d90d8422d8"
      },
      "execution_count": null,
      "outputs": [
        {
          "output_type": "stream",
          "name": "stdout",
          "text": [
            "ola\n"
          ]
        }
      ]
    },
    {
      "cell_type": "code",
      "source": [
        "#3\n",
        "print(string1)\n",
        "print(string2)\n",
        "print(string3)"
      ],
      "metadata": {
        "colab": {
          "base_uri": "https://localhost:8080/"
        },
        "id": "e6M94u0yxxoY",
        "outputId": "c2288883-58a8-42f7-c7c1-4cadcd4e0dae"
      },
      "execution_count": null,
      "outputs": [
        {
          "output_type": "stream",
          "name": "stdout",
          "text": [
            "oi\n",
            "oi tudo bem?\n",
            "ola\n"
          ]
        }
      ]
    },
    {
      "cell_type": "code",
      "source": [
        "#4\n",
        "'TESTE'"
      ],
      "metadata": {
        "colab": {
          "base_uri": "https://localhost:8080/",
          "height": 35
        },
        "id": "NG_zdq0vySEw",
        "outputId": "43e8de01-c60e-4d84-88a6-8c2e5302fefd"
      },
      "execution_count": null,
      "outputs": [
        {
          "output_type": "execute_result",
          "data": {
            "text/plain": [
              "'TESTE'"
            ],
            "application/vnd.google.colaboratory.intrinsic+json": {
              "type": "string"
            }
          },
          "metadata": {},
          "execution_count": 8
        }
      ]
    },
    {
      "cell_type": "code",
      "source": [
        "#tres formas de imprimmir uma string, utilizar a função print() é o mais adequado\n",
        "string4='TESTE'\n",
        "print(string4)\n",
        "print('TESTE')\n",
        "'teste'"
      ],
      "metadata": {
        "colab": {
          "base_uri": "https://localhost:8080/",
          "height": 70
        },
        "id": "81labZ2DyV-Q",
        "outputId": "940b972f-bb73-407f-c141-83f159ae17a7"
      },
      "execution_count": null,
      "outputs": [
        {
          "output_type": "stream",
          "name": "stdout",
          "text": [
            "TESTE\n",
            "TESTE\n"
          ]
        },
        {
          "output_type": "execute_result",
          "data": {
            "text/plain": [
              "'teste'"
            ],
            "application/vnd.google.colaboratory.intrinsic+json": {
              "type": "string"
            }
          },
          "metadata": {},
          "execution_count": 9
        }
      ]
    },
    {
      "cell_type": "code",
      "source": [
        "#utilize \\n para saltar linhas\n",
        "string5='pedro\\n\\n andrade\\n teste'\n",
        "print(string5)"
      ],
      "metadata": {
        "colab": {
          "base_uri": "https://localhost:8080/"
        },
        "id": "NjIlOjo9zfXP",
        "outputId": "7ede29d3-7d92-448a-ff9e-24cdda93531a"
      },
      "execution_count": null,
      "outputs": [
        {
          "output_type": "stream",
          "name": "stdout",
          "text": [
            "pedro\n",
            "\n",
            " andrade\n",
            " teste\n"
          ]
        }
      ]
    },
    {
      "cell_type": "code",
      "source": [
        "#utilize \\t para espaço\n",
        "string6='joao\\tfoi\\tao\\tmercado'\n",
        "print(string6)"
      ],
      "metadata": {
        "colab": {
          "base_uri": "https://localhost:8080/"
        },
        "id": "KortZjWj0S_n",
        "outputId": "41d2577d-e9bb-4a2a-ca9e-4fb4f4767026"
      },
      "execution_count": null,
      "outputs": [
        {
          "output_type": "stream",
          "name": "stdout",
          "text": [
            "joao\tfoi\tao\tmercado\n"
          ]
        }
      ]
    },
    {
      "cell_type": "code",
      "source": [
        "#função len: veja quantos caracteres formam a frase a seguir:\n",
        "frase='lucas nunes santos da silva'\n",
        "len(frase)\n",
        "frase2='lucas'\n",
        "len(frase2)\n"
      ],
      "metadata": {
        "colab": {
          "base_uri": "https://localhost:8080/"
        },
        "id": "9atIODQB0sJm",
        "outputId": "fb2985a0-e250-414b-bbd5-f4f66c247410"
      },
      "execution_count": null,
      "outputs": [
        {
          "output_type": "execute_result",
          "data": {
            "text/plain": [
              "5"
            ]
          },
          "metadata": {},
          "execution_count": 30
        }
      ]
    },
    {
      "cell_type": "code",
      "source": [
        "#indexação de strings,o indice começa a contagem a partir do zero\n",
        "# M a t h e u s -- palavra\n",
        "# 0 1 2 3 4 5 6 -- indice da palavra\n",
        "frase3='matheus souza de melo'\n",
        "len(frase3)\n",
        "print(frase3[20])\n"
      ],
      "metadata": {
        "colab": {
          "base_uri": "https://localhost:8080/"
        },
        "id": "EvKS2xcO26HN",
        "outputId": "d9ef7c53-de23-4bb5-ce96-f908170239f1"
      },
      "execution_count": null,
      "outputs": [
        {
          "output_type": "stream",
          "name": "stdout",
          "text": [
            "o\n"
          ]
        }
      ]
    },
    {
      "cell_type": "code",
      "source": [
        "#imprimindo a partir de um caractere\n",
        "print(frase3[5:])\n",
        "print(frase3[:6])\n",
        "print(frase3[4:8])\n",
        "print(frase3[-1])#só a ultima letra\n",
        "print(frase3[:-1])#tudo menos a ultima letra\n",
        "#-1 se conta inversamente"
      ],
      "metadata": {
        "colab": {
          "base_uri": "https://localhost:8080/"
        },
        "id": "Po3deWi95SRb",
        "outputId": "af6ec964-cff9-4c38-abd8-bc045323a333"
      },
      "execution_count": null,
      "outputs": [
        {
          "output_type": "stream",
          "name": "stdout",
          "text": [
            "us souza de melo\n",
            "matheu\n",
            "eus \n",
            "o\n",
            "matheus souza de mel\n"
          ]
        }
      ]
    },
    {
      "cell_type": "code",
      "source": [
        "#IMPRIME UMA FRASE SALTANDO DE 2 EM 2\n",
        "frase7=\"escolinha do professor raimundo\"\n",
        "print(frase7[::2])\n"
      ],
      "metadata": {
        "colab": {
          "base_uri": "https://localhost:8080/"
        },
        "id": "X3p5R9mW8O2Z",
        "outputId": "0d559fe6-bf6b-4520-a2b6-3bcd406ebe44"
      },
      "execution_count": null,
      "outputs": [
        {
          "output_type": "stream",
          "name": "stdout",
          "text": [
            "eclnad rfso amno\n"
          ]
        }
      ]
    },
    {
      "cell_type": "code",
      "source": [
        "#utilize a função find para encontrar caracteres dentro de uma string\n",
        "email='marcos@gmail.com'\n",
        "print(email.find(\"@\"))\n"
      ],
      "metadata": {
        "colab": {
          "base_uri": "https://localhost:8080/"
        },
        "id": "QZqpVxkZ9DtJ",
        "outputId": "71641aad-7d70-440b-8912-6a0a197b4512"
      },
      "execution_count": null,
      "outputs": [
        {
          "output_type": "stream",
          "name": "stdout",
          "text": [
            "6\n"
          ]
        }
      ]
    },
    {
      "cell_type": "code",
      "source": [
        "\n",
        "print(email.count(\"m\"))"
      ],
      "metadata": {
        "colab": {
          "base_uri": "https://localhost:8080/"
        },
        "id": "idnnjpYz-hxX",
        "outputId": "951bdcc5-657d-42ee-8d46-bfe04826b6d3"
      },
      "execution_count": null,
      "outputs": [
        {
          "output_type": "stream",
          "name": "stdout",
          "text": [
            "3\n"
          ]
        }
      ]
    },
    {
      "cell_type": "code",
      "source": [
        "#imultabilidade de strings\n",
        "teste4=\"imultabilidade\"\n",
        "teste4[0]=\"m\""
      ],
      "metadata": {
        "colab": {
          "base_uri": "https://localhost:8080/",
          "height": 176
        },
        "id": "HmUf4-Y4_HO_",
        "outputId": "e7418d15-5b9a-4e81-cd2f-3043314287ea"
      },
      "execution_count": null,
      "outputs": [
        {
          "output_type": "error",
          "ename": "TypeError",
          "evalue": "'str' object does not support item assignment",
          "traceback": [
            "\u001b[0;31m---------------------------------------------------------------------------\u001b[0m",
            "\u001b[0;31mTypeError\u001b[0m                                 Traceback (most recent call last)",
            "\u001b[0;32m<ipython-input-70-9631a80216b6>\u001b[0m in \u001b[0;36m<cell line: 0>\u001b[0;34m()\u001b[0m\n\u001b[1;32m      1\u001b[0m \u001b[0;31m#imultabilidade de strings\u001b[0m\u001b[0;34m\u001b[0m\u001b[0;34m\u001b[0m\u001b[0m\n\u001b[1;32m      2\u001b[0m \u001b[0mteste4\u001b[0m\u001b[0;34m=\u001b[0m\u001b[0;34m\"imultabilidade\"\u001b[0m\u001b[0;34m\u001b[0m\u001b[0;34m\u001b[0m\u001b[0m\n\u001b[0;32m----> 3\u001b[0;31m \u001b[0mteste4\u001b[0m\u001b[0;34m[\u001b[0m\u001b[0;36m0\u001b[0m\u001b[0;34m]\u001b[0m\u001b[0;34m=\u001b[0m\u001b[0;34m\"m\"\u001b[0m\u001b[0;34m\u001b[0m\u001b[0;34m\u001b[0m\u001b[0m\n\u001b[0m",
            "\u001b[0;31mTypeError\u001b[0m: 'str' object does not support item assignment"
          ]
        }
      ]
    },
    {
      "cell_type": "code",
      "source": [
        "#concatenação\n",
        "nome15=\"jose\"\n",
        "nome16=\" diaz \"\n",
        "print(nome15+nome16)"
      ],
      "metadata": {
        "colab": {
          "base_uri": "https://localhost:8080/"
        },
        "id": "IiXj5Dg6_8eX",
        "outputId": "0ec1dac4-1527-458e-bf9c-3d9ba09d3489"
      },
      "execution_count": null,
      "outputs": [
        {
          "output_type": "stream",
          "name": "stdout",
          "text": [
            "jose diaz \n"
          ]
        }
      ]
    },
    {
      "cell_type": "code",
      "source": [
        "#repetição\n",
        "print(nome16*7)"
      ],
      "metadata": {
        "colab": {
          "base_uri": "https://localhost:8080/"
        },
        "id": "sO92NdB2AZdl",
        "outputId": "42ca41fc-f705-46bc-a23a-1ef7a1765d5a"
      },
      "execution_count": null,
      "outputs": [
        {
          "output_type": "stream",
          "name": "stdout",
          "text": [
            " diaz  diaz  diaz  diaz  diaz  diaz  diaz \n"
          ]
        }
      ]
    },
    {
      "cell_type": "code",
      "source": [
        "#função str()\n",
        "#numeros não podem ser concatenados com strings\n",
        "numerodeirmaos= 2\n",
        "print(\"voce tem \"+str(numerodeirmaos)+\" irmaos\")\n"
      ],
      "metadata": {
        "colab": {
          "base_uri": "https://localhost:8080/"
        },
        "id": "yfUJBRj3Au5t",
        "outputId": "e4f9284a-daac-4dba-bc94-e354acb010f7"
      },
      "execution_count": null,
      "outputs": [
        {
          "output_type": "stream",
          "name": "stdout",
          "text": [
            "voce tem 2 irmaos\n"
          ]
        }
      ]
    },
    {
      "cell_type": "code",
      "source": [
        "#exemposss\n",
        "exemplo=\"Ctrl play - escola de programação e robótica \"\n",
        "print(exemplo.upper())#deixa tudo maiusculo\n",
        "print(exemplo.lower())#deixa tudo minusculo\n",
        "\n"
      ],
      "metadata": {
        "colab": {
          "base_uri": "https://localhost:8080/"
        },
        "id": "2HjogpT7CHZ9",
        "outputId": "2915bb6d-bb77-4851-84c8-b649d947834c"
      },
      "execution_count": null,
      "outputs": [
        {
          "output_type": "stream",
          "name": "stdout",
          "text": [
            "CTRL PLAY - ESCOLA DE PROGRAMAÇÃO E ROBÓTICA \n",
            "ctrl play - escola de programação e robótica \n"
          ]
        }
      ]
    },
    {
      "cell_type": "code",
      "source": [
        "#divide o string nos espaços em branco\n",
        "exemplo78= exemplo.split()\n",
        "print(exemplo78[3])"
      ],
      "metadata": {
        "colab": {
          "base_uri": "https://localhost:8080/"
        },
        "id": "MtOiLaw2C0dU",
        "outputId": "de82a044-f8ad-443d-d428-5e4ef6c68ae0"
      },
      "execution_count": null,
      "outputs": [
        {
          "output_type": "stream",
          "name": "stdout",
          "text": [
            "escola\n"
          ]
        }
      ]
    },
    {
      "cell_type": "code",
      "source": [
        "exemplo78= exemplo.split('-')\n",
        "print(exemplo78[1])"
      ],
      "metadata": {
        "colab": {
          "base_uri": "https://localhost:8080/"
        },
        "id": "TCI1AF5XEOir",
        "outputId": "41f40115-2b1e-4da4-f227-ceeb87c0cd7a"
      },
      "execution_count": null,
      "outputs": [
        {
          "output_type": "stream",
          "name": "stdout",
          "text": [
            " escola de programação e robótica \n"
          ]
        }
      ]
    },
    {
      "cell_type": "code",
      "source": [
        "#input pede para o usuário infirme uma determinada informação\n",
        "nome=input(\"digite seu nome: \")\n",
        "print(\"seu nome é: \"+nome)\n",
        "\n"
      ],
      "metadata": {
        "colab": {
          "base_uri": "https://localhost:8080/"
        },
        "id": "Af96lDEDEfmK",
        "outputId": "4e34e8ce-0531-4e6d-eca7-d8f7c275f552"
      },
      "execution_count": null,
      "outputs": [
        {
          "output_type": "stream",
          "name": "stdout",
          "text": [
            "digite seu nome: lucas\n",
            "seu nome é: lucas\n"
          ]
        }
      ]
    },
    {
      "cell_type": "code",
      "source": [
        "n1 =input(\"digite um numero: \")\n",
        "n2 =input(\"digite outro numero: \")\n",
        "soma=n1+n2\n",
        "print(f'a sonma é: {soma}')\n"
      ],
      "metadata": {
        "colab": {
          "base_uri": "https://localhost:8080/"
        },
        "id": "KkizvmZRFM3T",
        "outputId": "30e217a9-c3e7-47c6-fb9f-59dcd0bb1659"
      },
      "execution_count": null,
      "outputs": [
        {
          "output_type": "stream",
          "name": "stdout",
          "text": [
            "digite um numero: 4\n",
            "digite outro numero: 7\n",
            "a sonma é: 47\n"
          ]
        }
      ]
    }
  ]
}