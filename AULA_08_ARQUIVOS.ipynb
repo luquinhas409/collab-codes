{
  "nbformat": 4,
  "nbformat_minor": 0,
  "metadata": {
    "colab": {
      "provenance": [],
      "authorship_tag": "ABX9TyOg0xxTngKnVsxYqd2lu/5g",
      "include_colab_link": true
    },
    "kernelspec": {
      "name": "python3",
      "display_name": "Python 3"
    },
    "language_info": {
      "name": "python"
    }
  },
  "cells": [
    {
      "cell_type": "markdown",
      "metadata": {
        "id": "view-in-github",
        "colab_type": "text"
      },
      "source": [
        "<a href=\"https://colab.research.google.com/github/luquinhas409/collab-codes/blob/main/AULA_08_ARQUIVOS.ipynb\" target=\"_parent\"><img src=\"https://colab.research.google.com/assets/colab-badge.svg\" alt=\"Open In Colab\"/></a>"
      ]
    },
    {
      "cell_type": "code",
      "execution_count": null,
      "metadata": {
        "colab": {
          "base_uri": "https://localhost:8080/"
        },
        "id": "BDtKLYYvGLN8",
        "outputId": "9e20c28a-e35a-4729-be65-9c460435c6c8"
      },
      "outputs": [
        {
          "output_type": "stream",
          "name": "stdout",
          "text": [
            "Writing arquivo.txt\n"
          ]
        }
      ],
      "source": [
        "%%writefile arquivo.txt\n",
        "pedro"
      ]
    },
    {
      "cell_type": "code",
      "source": [
        "arquivo = open('arquivo.txt')"
      ],
      "metadata": {
        "id": "tZhk1GTBG21i"
      },
      "execution_count": null,
      "outputs": []
    },
    {
      "cell_type": "code",
      "source": [
        "%%writefile herois.txt\n",
        "homem aranha,homem de ferro,flash\n",
        "\n",
        "capitao america,hulk,thor"
      ],
      "metadata": {
        "colab": {
          "base_uri": "https://localhost:8080/"
        },
        "id": "vRQCpxrtHPhZ",
        "outputId": "3bdefe07-ce2b-4f8c-876c-89930a0a1eac"
      },
      "execution_count": null,
      "outputs": [
        {
          "output_type": "stream",
          "name": "stdout",
          "text": [
            "Overwriting herois.txt\n"
          ]
        }
      ]
    },
    {
      "cell_type": "code",
      "source": [
        "arquivo = open('herois.txt')"
      ],
      "metadata": {
        "id": "bKTJRwC0HfAx"
      },
      "execution_count": null,
      "outputs": []
    },
    {
      "cell_type": "code",
      "source": [
        "arquivo.read()"
      ],
      "metadata": {
        "colab": {
          "base_uri": "https://localhost:8080/",
          "height": 35
        },
        "id": "UuLd_l0PHrjp",
        "outputId": "adc9df5d-0de3-416b-b0b7-7accf06f0d9a"
      },
      "execution_count": null,
      "outputs": [
        {
          "output_type": "execute_result",
          "data": {
            "text/plain": [
              "'homem aranha,homem de ferro,flash\\n'"
            ],
            "application/vnd.google.colaboratory.intrinsic+json": {
              "type": "string"
            }
          },
          "metadata": {},
          "execution_count": 12
        }
      ]
    },
    {
      "cell_type": "code",
      "source": [
        "arquivo.read()"
      ],
      "metadata": {
        "colab": {
          "base_uri": "https://localhost:8080/",
          "height": 35
        },
        "id": "GLfDVslQHyFR",
        "outputId": "e3ba36a1-2333-4863-b314-a1f19d69a569"
      },
      "execution_count": null,
      "outputs": [
        {
          "output_type": "execute_result",
          "data": {
            "text/plain": [
              "''"
            ],
            "application/vnd.google.colaboratory.intrinsic+json": {
              "type": "string"
            }
          },
          "metadata": {},
          "execution_count": 21
        }
      ]
    },
    {
      "cell_type": "code",
      "source": [
        "arquivo.seek(0)"
      ],
      "metadata": {
        "colab": {
          "base_uri": "https://localhost:8080/"
        },
        "id": "SZ_7IhpVIJ1Z",
        "outputId": "099a5f47-7871-4247-bca6-41ced93d0eb8"
      },
      "execution_count": null,
      "outputs": [
        {
          "output_type": "execute_result",
          "data": {
            "text/plain": [
              "0"
            ]
          },
          "metadata": {},
          "execution_count": 28
        }
      ]
    },
    {
      "cell_type": "code",
      "source": [
        "print(arquivo.readline())\n",
        "\n"
      ],
      "metadata": {
        "colab": {
          "base_uri": "https://localhost:8080/"
        },
        "id": "2ZvIVREGIVjx",
        "outputId": "a5679469-34e8-4195-b51b-d29f24118371"
      },
      "execution_count": null,
      "outputs": [
        {
          "output_type": "stream",
          "name": "stdout",
          "text": [
            "homem aranha,homem de ferro,flash\n",
            "\n"
          ]
        }
      ]
    },
    {
      "cell_type": "code",
      "source": [
        "print(arquivo.readline())\n"
      ],
      "metadata": {
        "colab": {
          "base_uri": "https://localhost:8080/"
        },
        "id": "Uf8zUriLI1jK",
        "outputId": "051b1841-6d24-4e97-e5d8-9a43d9251fc2"
      },
      "execution_count": null,
      "outputs": [
        {
          "output_type": "stream",
          "name": "stdout",
          "text": [
            "capitao america,hulk,thor\n",
            "\n"
          ]
        }
      ]
    },
    {
      "cell_type": "code",
      "source": [
        "#adiciona i, segundo argumento a função, 'a' , para escrita em acrescimo\n",
        "arquivo = open('herois.txt','a')"
      ],
      "metadata": {
        "id": "qVV04gd3JJuR"
      },
      "execution_count": null,
      "outputs": []
    },
    {
      "cell_type": "code",
      "source": [
        "#escreve no arquivo mais herois\n",
        "arquivo.write('\\nBatman,DC')\n",
        "arquivo.write('\\nHulk,Marvel')"
      ],
      "metadata": {
        "colab": {
          "base_uri": "https://localhost:8080/"
        },
        "id": "GwTz5yLYJZPK",
        "outputId": "cdcac957-6ab3-4104-878e-86638feb2980"
      },
      "execution_count": null,
      "outputs": [
        {
          "output_type": "execute_result",
          "data": {
            "text/plain": [
              "12"
            ]
          },
          "metadata": {},
          "execution_count": 38
        }
      ]
    },
    {
      "cell_type": "code",
      "source": [
        "#lendo o arquivo inteiro com for, pra fechar coloca .close\n",
        "arquivo = open('herois.txt',\"r\")\n",
        "for x in arquivo:\n",
        "    print(x)"
      ],
      "metadata": {
        "colab": {
          "base_uri": "https://localhost:8080/"
        },
        "id": "krVeaOgbJujy",
        "outputId": "1788b765-ec17-4c72-a81a-37509c71a557"
      },
      "execution_count": null,
      "outputs": [
        {
          "output_type": "stream",
          "name": "stdout",
          "text": [
            "homem aranha,homem de ferro,flash\n",
            "\n",
            "\n",
            "\n",
            "capitao america,hulk,thor\n",
            "\n",
            "\n",
            "\n",
            "Batman,DC\n",
            "\n",
            "Hulk,Marvel\n"
          ]
        }
      ]
    },
    {
      "cell_type": "code",
      "source": [
        "arquivo.close()"
      ],
      "metadata": {
        "id": "dTHJtCjkKVEi"
      },
      "execution_count": null,
      "outputs": []
    },
    {
      "cell_type": "code",
      "source": [
        "with open(\"herois.txt\") as arquivo:\n",
        "    print(arquivo.readline())\n",
        "    print(arquivo.readline())"
      ],
      "metadata": {
        "colab": {
          "base_uri": "https://localhost:8080/"
        },
        "id": "PkrSptIAKpyi",
        "outputId": "ced58ccd-66f7-48f1-e3f5-8dad3d55e0d9"
      },
      "execution_count": null,
      "outputs": [
        {
          "output_type": "stream",
          "name": "stdout",
          "text": [
            "homem aranha,homem de ferro,flash\n",
            "\n",
            "\n",
            "\n"
          ]
        }
      ]
    }
  ]
}